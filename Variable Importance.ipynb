{
 "cells": [
  {
   "cell_type": "code",
   "execution_count": 27,
   "metadata": {},
   "outputs": [
    {
     "data": {
      "text/html": [
       "<div>\n",
       "<style scoped>\n",
       "    .dataframe tbody tr th:only-of-type {\n",
       "        vertical-align: middle;\n",
       "    }\n",
       "\n",
       "    .dataframe tbody tr th {\n",
       "        vertical-align: top;\n",
       "    }\n",
       "\n",
       "    .dataframe thead th {\n",
       "        text-align: right;\n",
       "    }\n",
       "</style>\n",
       "<table border=\"1\" class=\"dataframe\">\n",
       "  <thead>\n",
       "    <tr style=\"text-align: right;\">\n",
       "      <th></th>\n",
       "      <th>sample index</th>\n",
       "      <th>class_label</th>\n",
       "      <th>sensor0</th>\n",
       "      <th>sensor1</th>\n",
       "      <th>sensor2</th>\n",
       "      <th>sensor3</th>\n",
       "      <th>sensor4</th>\n",
       "      <th>sensor5</th>\n",
       "      <th>sensor6</th>\n",
       "      <th>sensor7</th>\n",
       "      <th>sensor8</th>\n",
       "      <th>sensor9</th>\n",
       "    </tr>\n",
       "  </thead>\n",
       "  <tbody>\n",
       "    <tr>\n",
       "      <th>0</th>\n",
       "      <td>sample0</td>\n",
       "      <td>1.0</td>\n",
       "      <td>0.834251</td>\n",
       "      <td>0.726081</td>\n",
       "      <td>0.535904</td>\n",
       "      <td>0.214896</td>\n",
       "      <td>0.873788</td>\n",
       "      <td>0.767605</td>\n",
       "      <td>0.111308</td>\n",
       "      <td>0.557526</td>\n",
       "      <td>0.599650</td>\n",
       "      <td>0.665569</td>\n",
       "    </tr>\n",
       "    <tr>\n",
       "      <th>1</th>\n",
       "      <td>sample1</td>\n",
       "      <td>1.0</td>\n",
       "      <td>0.804059</td>\n",
       "      <td>0.253135</td>\n",
       "      <td>0.869867</td>\n",
       "      <td>0.334285</td>\n",
       "      <td>0.604075</td>\n",
       "      <td>0.494045</td>\n",
       "      <td>0.833575</td>\n",
       "      <td>0.194190</td>\n",
       "      <td>0.014966</td>\n",
       "      <td>0.802918</td>\n",
       "    </tr>\n",
       "    <tr>\n",
       "      <th>2</th>\n",
       "      <td>sample2</td>\n",
       "      <td>1.0</td>\n",
       "      <td>0.694404</td>\n",
       "      <td>0.595777</td>\n",
       "      <td>0.581294</td>\n",
       "      <td>0.799003</td>\n",
       "      <td>0.762857</td>\n",
       "      <td>0.651393</td>\n",
       "      <td>0.075905</td>\n",
       "      <td>0.007186</td>\n",
       "      <td>0.659633</td>\n",
       "      <td>0.831009</td>\n",
       "    </tr>\n",
       "    <tr>\n",
       "      <th>3</th>\n",
       "      <td>sample3</td>\n",
       "      <td>1.0</td>\n",
       "      <td>0.783690</td>\n",
       "      <td>0.038780</td>\n",
       "      <td>0.285043</td>\n",
       "      <td>0.627305</td>\n",
       "      <td>0.800620</td>\n",
       "      <td>0.486340</td>\n",
       "      <td>0.827723</td>\n",
       "      <td>0.339807</td>\n",
       "      <td>0.731343</td>\n",
       "      <td>0.892359</td>\n",
       "    </tr>\n",
       "    <tr>\n",
       "      <th>4</th>\n",
       "      <td>sample4</td>\n",
       "      <td>1.0</td>\n",
       "      <td>0.788835</td>\n",
       "      <td>0.174433</td>\n",
       "      <td>0.348770</td>\n",
       "      <td>0.938244</td>\n",
       "      <td>0.692065</td>\n",
       "      <td>0.377620</td>\n",
       "      <td>0.183760</td>\n",
       "      <td>0.616805</td>\n",
       "      <td>0.492899</td>\n",
       "      <td>0.930969</td>\n",
       "    </tr>\n",
       "  </tbody>\n",
       "</table>\n",
       "</div>"
      ],
      "text/plain": [
       "  sample index  class_label   sensor0   sensor1   sensor2   sensor3   sensor4  \\\n",
       "0      sample0          1.0  0.834251  0.726081  0.535904  0.214896  0.873788   \n",
       "1      sample1          1.0  0.804059  0.253135  0.869867  0.334285  0.604075   \n",
       "2      sample2          1.0  0.694404  0.595777  0.581294  0.799003  0.762857   \n",
       "3      sample3          1.0  0.783690  0.038780  0.285043  0.627305  0.800620   \n",
       "4      sample4          1.0  0.788835  0.174433  0.348770  0.938244  0.692065   \n",
       "\n",
       "    sensor5   sensor6   sensor7   sensor8   sensor9  \n",
       "0  0.767605  0.111308  0.557526  0.599650  0.665569  \n",
       "1  0.494045  0.833575  0.194190  0.014966  0.802918  \n",
       "2  0.651393  0.075905  0.007186  0.659633  0.831009  \n",
       "3  0.486340  0.827723  0.339807  0.731343  0.892359  \n",
       "4  0.377620  0.183760  0.616805  0.492899  0.930969  "
      ]
     },
     "execution_count": 27,
     "metadata": {},
     "output_type": "execute_result"
    }
   ],
   "source": [
    "import numpy as np\n",
    "import pandas as pd\n",
    "from matplotlib import pyplot\n",
    "\n",
    "datasensor = pd.read_csv(r'C:\\Users\\trehacikamiloglu\\Desktop\\task_data.csv',delimiter=\",\")\n",
    "datasensor.head()"
   ]
  },
  {
   "cell_type": "code",
   "execution_count": 22,
   "metadata": {},
   "outputs": [
    {
     "name": "stderr",
     "output_type": "stream",
     "text": [
      "C:\\Users\\trehacikamiloglu\\AppData\\Local\\Continuum\\anaconda3\\lib\\site-packages\\ipykernel_launcher.py:6: FutureWarning: Method .as_matrix will be removed in a future version. Use .values instead.\n",
      "  \n"
     ]
    }
   ],
   "source": [
    "# Extract header\n",
    "h = np.array(list(datasensor.columns.values))\n",
    "header = h[2:]\n",
    "\n",
    "# Extract dataset\n",
    "data_all = datasensor.as_matrix()\n",
    "\n",
    "X = data_all[:,2:]\n",
    "y = data_all[:,1]"
   ]
  },
  {
   "cell_type": "code",
   "execution_count": 32,
   "metadata": {},
   "outputs": [
    {
     "name": "stdout",
     "output_type": "stream",
     "text": [
      "Predictive Scores with RFR:\n",
      "[0.05561915 0.00740883 0.01551728 0.01129802 0.14135791 0.01394371\n",
      " 0.24299153 0.01775161 0.4854651  0.00864688]\n"
     ]
    },
    {
     "name": "stderr",
     "output_type": "stream",
     "text": [
      "C:\\Users\\trehacikamiloglu\\AppData\\Local\\Continuum\\anaconda3\\lib\\site-packages\\sklearn\\ensemble\\forest.py:246: FutureWarning: The default value of n_estimators will change from 10 in version 0.20 to 100 in 0.22.\n",
      "  \"10 in version 0.20 to 100 in 0.22.\", FutureWarning)\n"
     ]
    }
   ],
   "source": [
    "from sklearn.ensemble import RandomForestRegressor\n",
    "\n",
    "model = RandomForestRegressor()\n",
    "model.fit(X, y)\n",
    "\n",
    "print(\"Predictive Scores with RFR:\")\n",
    "print(model.feature_importances_)"
   ]
  },
  {
   "cell_type": "code",
   "execution_count": 28,
   "metadata": {},
   "outputs": [
    {
     "data": {
      "image/png": "[encoded data removed]",
      "text/plain": [
       "<Figure size 432x288 with 1 Axes>"
      ]
     },
     "metadata": {
      "needs_background": "light"
     },
     "output_type": "display_data"
    }
   ],
   "source": [
    "pyplot.bar(range(len(model.feature_importances_)), model.feature_importances_)\n",
    "pyplot.show()"
   ]
  },
  {
   "cell_type": "code",
   "execution_count": 34,
   "metadata": {},
   "outputs": [
    {
     "name": "stdout",
     "output_type": "stream",
     "text": [
      "Predictive Scores with ETC:\n",
      "[0.11080759 0.03778524 0.07773956 0.05294281 0.15378488 0.03090448\n",
      " 0.26545457 0.015314   0.22631038 0.0289565 ]\n"
     ]
    },
    {
     "name": "stderr",
     "output_type": "stream",
     "text": [
      "C:\\Users\\trehacikamiloglu\\AppData\\Local\\Continuum\\anaconda3\\lib\\site-packages\\sklearn\\ensemble\\forest.py:246: FutureWarning: The default value of n_estimators will change from 10 in version 0.20 to 100 in 0.22.\n",
      "  \"10 in version 0.20 to 100 in 0.22.\", FutureWarning)\n"
     ]
    }
   ],
   "source": [
    "from sklearn.ensemble import ExtraTreesClassifier\n",
    "\n",
    "Y=y.tolist()\n",
    "\n",
    "model2=ExtraTreesClassifier()\n",
    "model2.fit(X, Y)\n",
    "\n",
    "print(\"Predictive Scores with ETC:\")\n",
    "print(model2.feature_importances_)"
   ]
  },
  {
   "cell_type": "code",
   "execution_count": 35,
   "metadata": {},
   "outputs": [
    {
     "data": {
      "image/png": "[encoded data removed]",
      "text/plain": [
       "<Figure size 432x288 with 1 Axes>"
      ]
     },
     "metadata": {
      "needs_background": "light"
     },
     "output_type": "display_data"
    }
   ],
   "source": [
    "pyplot.bar(range(len(model2.feature_importances_)), model2.feature_importances_)\n",
    "pyplot.show()"
   ]
  }
 ],
 "metadata": {
  "kernelspec": {
   "display_name": "Python 3",
   "language": "python",
   "name": "python3"
  },
  "language_info": {
   "codemirror_mode": {
    "name": "ipython",
    "version": 3
   },
   "file_extension": ".py",
   "mimetype": "text/x-python",
   "name": "python",
   "nbconvert_exporter": "python",
   "pygments_lexer": "ipython3",
   "version": "3.7.1"
  }
 },
 "nbformat": 4,
 "nbformat_minor": 2
}
